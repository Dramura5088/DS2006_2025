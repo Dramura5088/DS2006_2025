{
 "cells": [
  {
   "cell_type": "markdown",
   "id": "9b3e07e4",
   "metadata": {},
   "source": [
    "Welcome message"
   ]
  },
  {
   "cell_type": "code",
   "execution_count": 4,
   "id": "b18368d0",
   "metadata": {},
   "outputs": [
    {
     "name": "stdout",
     "output_type": "stream",
     "text": [
      "Welcome to Python Programming!\n"
     ]
    }
   ],
   "source": [
    "print(\"Welcome to Python Programming!\")"
   ]
  },
  {
   "cell_type": "markdown",
   "id": "ca79f689",
   "metadata": {},
   "source": [
    "Basic Arithmetic\n",
    "Adding two numbers"
   ]
  },
  {
   "cell_type": "code",
   "execution_count": 5,
   "id": "90a6bd98",
   "metadata": {},
   "outputs": [
    {
     "name": "stdout",
     "output_type": "stream",
     "text": [
      "The result of the addition is: 8\n"
     ]
    }
   ],
   "source": [
    "result_addition = 2 + 6\n",
    "print(\"The result of the addition is:\", result_addition)"
   ]
  },
  {
   "cell_type": "markdown",
   "id": "e5a9bb03",
   "metadata": {},
   "source": [
    "Multiplying two numbers"
   ]
  },
  {
   "cell_type": "code",
   "execution_count": 6,
   "id": "ef3439e9",
   "metadata": {},
   "outputs": [
    {
     "name": "stdout",
     "output_type": "stream",
     "text": [
      "The result of the multiplication is:  15\n"
     ]
    }
   ],
   "source": [
    "result_multiplication = 5 * 3\n",
    "print(\"The result of the multiplication is: \", result_multiplication)"
   ]
  },
  {
   "cell_type": "markdown",
   "id": "7654159b",
   "metadata": {},
   "source": [
    "Printing a simple message"
   ]
  },
  {
   "cell_type": "code",
   "execution_count": 7,
   "id": "08381ab0",
   "metadata": {},
   "outputs": [
    {
     "name": "stdout",
     "output_type": "stream",
     "text": [
      "Hello world!\n"
     ]
    }
   ],
   "source": [
    "print(\"Hello world!\")"
   ]
  },
  {
   "cell_type": "markdown",
   "id": "49fa8ebc",
   "metadata": {},
   "source": [
    " Variable assignments"
   ]
  },
  {
   "cell_type": "code",
   "execution_count": 8,
   "id": "c573317c",
   "metadata": {},
   "outputs": [],
   "source": [
    "A = 10 # Assign value 10 to variable A\n",
    "B = 4 # Assign value 4 to variable B"
   ]
  },
  {
   "cell_type": "markdown",
   "id": "e1cc7b5f",
   "metadata": {},
   "source": [
    "Performing and printing results of arithmetic operations "
   ]
  },
  {
   "cell_type": "code",
   "execution_count": 9,
   "id": "06c0ef87",
   "metadata": {},
   "outputs": [
    {
     "name": "stdout",
     "output_type": "stream",
     "text": [
      "The result of the addition is  14\n",
      "The result of the multiplication is  40\n",
      "The result of the division is  2.5\n"
     ]
    }
   ],
   "source": [
    "print(\"The result of the addition is \", A+B)\n",
    "print(\"The result of the multiplication is \", A*B)\n",
    "print(\"The result of the division is \", A/B)"
   ]
  },
  {
   "cell_type": "markdown",
   "id": "ae2a41dc",
   "metadata": {},
   "source": [
    "Using variables to store user information"
   ]
  },
  {
   "cell_type": "code",
   "execution_count": 10,
   "id": "01877b56",
   "metadata": {},
   "outputs": [],
   "source": [
    "name = \"Phil\"\n",
    "age = 21"
   ]
  },
  {
   "cell_type": "markdown",
   "id": "ad266c18",
   "metadata": {},
   "source": [
    "Printing user information"
   ]
  },
  {
   "cell_type": "code",
   "execution_count": 11,
   "id": "3d131522",
   "metadata": {},
   "outputs": [
    {
     "name": "stdout",
     "output_type": "stream",
     "text": [
      "Hi! My name is Phil and I am 21 years old.\n",
      "In 2 years, I will be 23 years old.\n"
     ]
    }
   ],
   "source": [
    "print(\"Hi! My name is\", name, \"and I am\", age, \"years old.\")\n",
    "print(f\"In 2 years, I will be {age+2} years old.\")"
   ]
  },
  {
   "cell_type": "markdown",
   "id": "e1e44ff6",
   "metadata": {},
   "source": [
    "\n",
    "Conditional statement based on age\n"
   ]
  },
  {
   "cell_type": "code",
   "execution_count": 12,
   "id": "a2560845",
   "metadata": {},
   "outputs": [
    {
     "name": "stdout",
     "output_type": "stream",
     "text": [
      "Access refused. Common Phil, you can come back in 9 years.\n"
     ]
    }
   ],
   "source": [
    "if age > 30:\n",
    "    print(f\"Access granted. Welcome {name}.\")\n",
    "else:\n",
    "    print(f\"Access refused. Common {name}, you can come back in {30-age} years.\")"
   ]
  },
  {
   "cell_type": "markdown",
   "id": "796e8727",
   "metadata": {},
   "source": [
    "List of usernames"
   ]
  },
  {
   "cell_type": "code",
   "execution_count": 13,
   "id": "f14627a9",
   "metadata": {},
   "outputs": [],
   "source": [
    "usernames = [\"Mark\", \"Sara\", \"Ahmad\", \"Johanna\"]"
   ]
  },
  {
   "cell_type": "markdown",
   "id": "6af620d9",
   "metadata": {},
   "source": [
    "Looping through the list and writing welcome messages"
   ]
  },
  {
   "cell_type": "code",
   "execution_count": 14,
   "id": "134440b4",
   "metadata": {},
   "outputs": [
    {
     "name": "stdout",
     "output_type": "stream",
     "text": [
      "Welcome Mark\n",
      "Welcome Sara\n",
      "Welcome Ahmad\n",
      "Welcome Johanna\n"
     ]
    }
   ],
   "source": [
    "for user in usernames:\n",
    "    print(f\"Welcome {user}\")"
   ]
  },
  {
   "cell_type": "markdown",
   "id": "0a61ee09",
   "metadata": {},
   "source": [
    "Looping to demonstrate range and multiplication"
   ]
  },
  {
   "cell_type": "code",
   "execution_count": 15,
   "id": "361871cb",
   "metadata": {},
   "outputs": [
    {
     "name": "stdout",
     "output_type": "stream",
     "text": [
      "The double of 0 is 0\n",
      "The double of 1 is 2\n",
      "The double of 2 is 4\n",
      "The double of 3 is 6\n",
      "The double of 4 is 8\n",
      "The double of 5 is 10\n",
      "The double of 6 is 12\n",
      "The double of 7 is 14\n",
      "The double of 8 is 16\n",
      "The double of 9 is 18\n"
     ]
    }
   ],
   "source": [
    "for i in range(0,10):\n",
    "    print(f\"The double of {i} is {2*i}\")"
   ]
  },
  {
   "cell_type": "markdown",
   "id": "c1bbedf2",
   "metadata": {},
   "source": [
    "\n",
    "Printing the user's full name\n",
    "Replace 'Your Full Name' with your actual name"
   ]
  },
  {
   "cell_type": "code",
   "execution_count": 16,
   "id": "cc1de249",
   "metadata": {},
   "outputs": [
    {
     "name": "stdout",
     "output_type": "stream",
     "text": [
      "Hello, Data Scientists!\n",
      "Philip Haglund!\n"
     ]
    }
   ],
   "source": [
    "print(\"Hello, Data Scientists!\")\n",
    "print(\"Philip Haglund!\")"
   ]
  },
  {
   "cell_type": "markdown",
   "id": "fb3454f3",
   "metadata": {},
   "source": [
    "Demonstrating input"
   ]
  },
  {
   "cell_type": "code",
   "execution_count": 17,
   "id": "477a9ee4",
   "metadata": {},
   "outputs": [
    {
     "name": "stdout",
     "output_type": "stream",
     "text": [
      "Hello Phil\n"
     ]
    }
   ],
   "source": [
    "psuedoname= input(\"Please enter pseudoname: \")\n",
    "print(\"Hello\", psuedoname)"
   ]
  },
  {
   "cell_type": "markdown",
   "id": "fe31d0ed",
   "metadata": {},
   "source": [
    "Demonstrate final variable values."
   ]
  },
  {
   "cell_type": "code",
   "execution_count": 18,
   "id": "abc92120",
   "metadata": {},
   "outputs": [
    {
     "name": "stdout",
     "output_type": "stream",
     "text": [
      "The variable A is 10\n",
      "The variable B is 4\n",
      "The variable name is Phil\n",
      "The variable age is 21\n",
      "The variable psuedoname Phil\n",
      "The variable usernames is ['Mark', 'Sara', 'Ahmad', 'Johanna']\n"
     ]
    }
   ],
   "source": [
    "print(\"The variable A is\", A)\n",
    "print(\"The variable B is\",B)\n",
    "print(\"The variable name is\", name)\n",
    "print(\"The variable age is\", age)\n",
    "print(\"The variable psuedoname\", psuedoname)\n",
    "print(\"The variable usernames is\", usernames)"
   ]
  }
 ],
 "metadata": {
  "kernelspec": {
   "display_name": ".venv",
   "language": "python",
   "name": "python3"
  },
  "language_info": {
   "codemirror_mode": {
    "name": "ipython",
    "version": 3
   },
   "file_extension": ".py",
   "mimetype": "text/x-python",
   "name": "python",
   "nbconvert_exporter": "python",
   "pygments_lexer": "ipython3",
   "version": "3.13.7"
  }
 },
 "nbformat": 4,
 "nbformat_minor": 5
}
